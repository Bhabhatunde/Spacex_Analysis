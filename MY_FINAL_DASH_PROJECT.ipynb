{
 "cells": [
  {
   "cell_type": "code",
   "execution_count": 1,
   "metadata": {},
   "outputs": [
    {
     "name": "stderr",
     "output_type": "stream",
     "text": [
      "C:\\Users\\micho\\AppData\\Local\\Temp\\ipykernel_16848\\1922571728.py:2: UserWarning: \n",
      "The dash_core_components package is deprecated. Please replace\n",
      "`import dash_core_components as dcc` with `from dash import dcc`\n",
      "  import dash_core_components as dcc\n",
      "C:\\Users\\micho\\AppData\\Local\\Temp\\ipykernel_16848\\1922571728.py:3: UserWarning: \n",
      "The dash_html_components package is deprecated. Please replace\n",
      "`import dash_html_components as html` with `from dash import html`\n",
      "  import dash_html_components as html\n"
     ]
    },
    {
     "data": {
      "text/html": [
       "\n",
       "        <iframe\n",
       "            width=\"100%\"\n",
       "            height=\"650\"\n",
       "            src=\"http://127.0.0.1:8051/\"\n",
       "            frameborder=\"0\"\n",
       "            allowfullscreen\n",
       "            \n",
       "        ></iframe>\n",
       "        "
      ],
      "text/plain": [
       "<IPython.lib.display.IFrame at 0x27427c05010>"
      ]
     },
     "metadata": {},
     "output_type": "display_data"
    }
   ],
   "source": [
    "import dash\n",
    "import dash_core_components as dcc\n",
    "import dash_html_components as html\n",
    "from dash.dependencies import Input, Output\n",
    "import plotly.express as px\n",
    "import pandas as pd\n",
    "import warnings\n",
    "\n",
    "\n",
    "# Assuming spacex_df is a DataFrame containing the SpaceX data\n",
    "# Replace with the actual path to your dataset\n",
    "spacex_df =  pd.read_csv(\"C:/Users/micho/OneDrive/Desktop/PROJECTS HOUSE/spacex.csv\")\n",
    "\n",
    "# Extract unique launch sites\n",
    "launch_sites = spacex_df['Launch Site'].unique()\n",
    "\n",
    "# Create the Dash app\n",
    "app = dash.Dash(__name__)\n",
    "\n",
    "# Define the layout\n",
    "app.layout = html.Div(children=[\n",
    "    html.H1('SpaceX Launch Records Dashboard', style={'textAlign': 'center'}),\n",
    "    \n",
    "    # Dropdown for selecting launch site\n",
    "    dcc.Dropdown(id='site-dropdown',\n",
    "                 options=[{'label': 'All Sites', 'value': 'ALL'}] + \n",
    "                         [{'label': site, 'value': site} for site in launch_sites],\n",
    "                 value='ALL',\n",
    "                 placeholder=\"Select a Launch Site here\",\n",
    "                 searchable=True),\n",
    "    \n",
    "    # Pie chart for success rate\n",
    "    dcc.Graph(id='success-pie-chart'),\n",
    "    \n",
    "    # Range slider for payload selection\n",
    "    dcc.RangeSlider(id='payload-slider',\n",
    "                    min=0, max=10000, step=1000,\n",
    "                    marks={i: str(i) for i in range(0, 10001, 1000)},\n",
    "                    value=[0, 10000]),\n",
    "    \n",
    "    # Scatter plot for payload vs. success\n",
    "    dcc.Graph(id='success-payload-scatter-chart')\n",
    "])\n",
    "\n",
    "# Add Callback for Pie Chart\n",
    "@app.callback(Output('success-pie-chart', 'figure'),\n",
    "              Input('site-dropdown', 'value'))\n",
    "def update_pie_chart(selected_site):\n",
    "    if selected_site == 'ALL':\n",
    "        filtered_df = spacex_df\n",
    "        title = 'Total Success Launches by Site'\n",
    "    else:\n",
    "        filtered_df = spacex_df[spacex_df['Launch Site'] == selected_site]\n",
    "        title = f'Total Success Launches for Site {selected_site}'\n",
    "    \n",
    "    fig = px.pie(filtered_df, \n",
    "                 names='class', \n",
    "                 title=title, \n",
    "                 hole=0.3)\n",
    "    return fig\n",
    "\n",
    "# Add Callback for Scatter Plot\n",
    "@app.callback(Output('success-payload-scatter-chart', 'figure'),\n",
    "              [Input('site-dropdown', 'value'),\n",
    "               Input('payload-slider', 'value')])\n",
    "def update_scatter_plot(selected_site, payload_range):\n",
    "    filtered_df = spacex_df[(spacex_df['Payload Mass (kg)'] >= payload_range[0]) & \n",
    "                            (spacex_df['Payload Mass (kg)'] <= payload_range[1])]\n",
    "    \n",
    "    if selected_site != 'ALL':\n",
    "        filtered_df = filtered_df[filtered_df['Launch Site'] == selected_site]\n",
    "    \n",
    "    fig = px.scatter(filtered_df, x='Payload Mass (kg)', y='class', \n",
    "                     color='Booster Version',\n",
    "                     title='Payload vs. Success for All Sites' if selected_site == 'ALL' else f'Payload vs. Success for Site {selected_site}')\n",
    "    return fig\n",
    "\n",
    "# Run the App on a Different Port\n",
    "if __name__ == '__main__':\n",
    "    app.run_server(debug=True, port=8051)  # Changed port to 8051\n"
   ]
  },
  {
   "cell_type": "code",
   "execution_count": null,
   "metadata": {},
   "outputs": [],
   "source": []
  }
 ],
 "metadata": {
  "kernelspec": {
   "display_name": "Python 3",
   "language": "python",
   "name": "python3"
  },
  "language_info": {
   "codemirror_mode": {
    "name": "ipython",
    "version": 3
   },
   "file_extension": ".py",
   "mimetype": "text/x-python",
   "name": "python",
   "nbconvert_exporter": "python",
   "pygments_lexer": "ipython3",
   "version": "3.11.9"
  }
 },
 "nbformat": 4,
 "nbformat_minor": 2
}
